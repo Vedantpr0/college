{
 "cells": [
  {
   "cell_type": "code",
   "execution_count": 1,
   "id": "c0f99dbe-6c9a-4787-8667-a722a612a119",
   "metadata": {},
   "outputs": [],
   "source": [
    "import numpy as np"
   ]
  },
  {
   "cell_type": "code",
   "execution_count": 2,
   "id": "5ca8a032-694e-4018-9e48-01742eac7845",
   "metadata": {},
   "outputs": [],
   "source": [
    "import numpy as np"
   ]
  },
  {
   "cell_type": "code",
   "execution_count": 4,
   "id": "34002ec7-4131-4835-968c-c52c60a9407c",
   "metadata": {},
   "outputs": [],
   "source": [
    "x1 = np.array([1, 1, 1, -1])\n",
    "y1 = np.array([1, -1])\n",
    "x2 = np.array([-1, -1, 1, 1]) \n",
    "y2 = np.array([-1, 1])"
   ]
  },
  {
   "cell_type": "code",
   "execution_count": 5,
   "id": "75cd9423-50e3-43e7-ab91-4b30869a6b2f",
   "metadata": {},
   "outputs": [],
   "source": [
    "W = np.outer(y1, x1) + np.outer(y2, x2)"
   ]
  },
  {
   "cell_type": "code",
   "execution_count": 6,
   "id": "916e5bb4-5c30-417c-8d2b-7b2399b65a3b",
   "metadata": {},
   "outputs": [],
   "source": [
    "def bam(x):\n",
    "    y = W @ x\n",
    "    return np.where(y>=0, 1, -1)"
   ]
  },
  {
   "cell_type": "code",
   "execution_count": 7,
   "id": "0791dd49-94a7-45db-98d4-59435069b6f0",
   "metadata": {},
   "outputs": [],
   "source": [
    "x_test = np.array([1, -1, -1, -1]) \n",
    "y_test = bam(x_test)"
   ]
  },
  {
   "cell_type": "code",
   "execution_count": null,
   "id": "5e1d64b0-88c7-4b1b-9b13-7d19ad715dac",
   "metadata": {},
   "outputs": [],
   "source": []
  },
  {
   "cell_type": "code",
   "execution_count": 8,
   "id": "cbe8d5d5-828d-4891-8ede-5e5f4d0efa8a",
   "metadata": {},
   "outputs": [
    {
     "name": "stdout",
     "output_type": "stream",
     "text": [
      "Input x:  [ 1 -1 -1 -1]\n",
      "Output y:  [ 1 -1]\n"
     ]
    }
   ],
   "source": [
    "print(\"Input x: \", x_test) \n",
    "print(\"Output y: \", y_test)"
   ]
  },
  {
   "cell_type": "code",
   "execution_count": null,
   "id": "c8538a21-be60-4709-90bf-c769dbc1fe63",
   "metadata": {},
   "outputs": [],
   "source": []
  }
 ],
 "metadata": {
  "kernelspec": {
   "display_name": "Python 3 (ipykernel)",
   "language": "python",
   "name": "python3"
  },
  "language_info": {
   "codemirror_mode": {
    "name": "ipython",
    "version": 3
   },
   "file_extension": ".py",
   "mimetype": "text/x-python",
   "name": "python",
   "nbconvert_exporter": "python",
   "pygments_lexer": "ipython3",
   "version": "3.12.2"
  },
  "widgets": {
   "application/vnd.jupyter.widget-state+json": {
    "state": {},
    "version_major": 2,
    "version_minor": 0
   }
  }
 },
 "nbformat": 4,
 "nbformat_minor": 5
}
