{
 "cells": [
  {
   "cell_type": "code",
   "execution_count": null,
   "id": "e15dffda",
   "metadata": {},
   "outputs": [],
   "source": []
  },
  {
   "cell_type": "code",
   "execution_count": 1,
   "id": "9d2402c8",
   "metadata": {},
   "outputs": [],
   "source": [
    "import numpy as np"
   ]
  },
  {
   "cell_type": "code",
   "execution_count": 2,
   "id": "34f94476",
   "metadata": {},
   "outputs": [],
   "source": [
    "x1 =np.array([1,1,1,-1])\n",
    "y1 =np.array([1,-1])\n",
    "x2 =np.array([-1,-1,1,1])\n",
    "y2 =np.array([1,-1])"
   ]
  },
  {
   "cell_type": "code",
   "execution_count": 4,
   "id": "a2406573",
   "metadata": {},
   "outputs": [],
   "source": [
    "W=np.outer(y1,x1)+np.outer(y2,x2)"
   ]
  },
  {
   "cell_type": "code",
   "execution_count": 5,
   "id": "11a0c0c7",
   "metadata": {},
   "outputs": [],
   "source": [
    "def bam(x):\n",
    "    y=W@x\n",
    "    return np.where(y>0,1,-1)"
   ]
  },
  {
   "cell_type": "code",
   "execution_count": 6,
   "id": "4d3e00f3",
   "metadata": {},
   "outputs": [],
   "source": [
    "x_test=np.array([1,-1,-1,-1])\n",
    "y_test=bam(x_test)"
   ]
  },
  {
   "cell_type": "code",
   "execution_count": 7,
   "id": "e7793923",
   "metadata": {},
   "outputs": [
    {
     "name": "stdout",
     "output_type": "stream",
     "text": [
      "Input x:  [ 1 -1 -1 -1]\n",
      "Output y:  [-1  1]\n"
     ]
    }
   ],
   "source": [
    "print(\"Input x: \",x_test)\n",
    "print(\"Output y: \",y_test)"
   ]
  }
 ],
 "metadata": {
  "kernelspec": {
   "display_name": "Python 3 (ipykernel)",
   "language": "python",
   "name": "python3"
  },
  "language_info": {
   "codemirror_mode": {
    "name": "ipython",
    "version": 3
   },
   "file_extension": ".py",
   "mimetype": "text/x-python",
   "name": "python",
   "nbconvert_exporter": "python",
   "pygments_lexer": "ipython3",
   "version": "3.11.6"
  }
 },
 "nbformat": 4,
 "nbformat_minor": 5
}
