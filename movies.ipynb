{
 "cells": [
  {
   "cell_type": "code",
   "execution_count": 1,
   "metadata": {},
   "outputs": [],
   "source": [
    "import pandas as pd"
   ]
  },
  {
   "cell_type": "code",
   "execution_count": 2,
   "metadata": {},
   "outputs": [],
   "source": [
    "df = pd.read_csv(\"movies.csv\")"
   ]
  },
  {
   "cell_type": "code",
   "execution_count": 3,
   "metadata": {},
   "outputs": [
    {
     "data": {
      "text/plain": [
       "<bound method NDFrame.head of                                            Title  title_year     budget  \\\n",
       "0                                     La La Land        2016   30000000   \n",
       "1                                       Zootopia        2016  150000000   \n",
       "2                                           Lion        2016   12000000   \n",
       "3                                        Arrival        2016   47000000   \n",
       "4                          Manchester by the Sea        2016    9000000   \n",
       "..                                           ...         ...        ...   \n",
       "95                                      Whiplash        2014    3300000   \n",
       "96                               Before Midnight        2013    3000000   \n",
       "97    Star Wars: Episode VII - The Force Awakens        2015  245000000   \n",
       "98  Harry Potter and the Deathly Hallows: Part I        2010  150000000   \n",
       "99                       Tucker and Dale vs Evil        2010    5000000   \n",
       "\n",
       "        Gross              actor_1_name        actor_2_name  \\\n",
       "0   151101803              Ryan Gosling          Emma Stone   \n",
       "1   341268248          Ginnifer Goodwin       Jason Bateman   \n",
       "2    51738905                 Dev Patel       Nicole Kidman   \n",
       "3   100546139                 Amy Adams       Jeremy Renner   \n",
       "4    47695371             Casey Affleck  Michelle Williams    \n",
       "..        ...                       ...                 ...   \n",
       "95   13092000              J.K. Simmons     Melissa Benoist   \n",
       "96    8114507  Seamus Davey-Fitzpatrick        Ariane Labed   \n",
       "97  936662225               Doug Walker          Rob Walker   \n",
       "98  296347721              Rupert Grint          Toby Jones   \n",
       "99     223838            Katrina Bowden        Tyler Labine   \n",
       "\n",
       "              actor_3_name  actor_1_facebook_likes  actor_2_facebook_likes  \\\n",
       "0               Amiée Conn                   14000                 19000.0   \n",
       "1               Idris Elba                    2800                 28000.0   \n",
       "2              Rooney Mara                   33000                 96000.0   \n",
       "3          Forest Whitaker                   35000                  5300.0   \n",
       "4            Kyle Chandler                     518                 71000.0   \n",
       "..                     ...                     ...                     ...   \n",
       "95            Chris Mulkey                   24000                   970.0   \n",
       "96  Athina Rachel Tsangari                     140                    63.0   \n",
       "97                       0                     131                    12.0   \n",
       "98            Alfred Enoch                   10000                  2000.0   \n",
       "99          Chelan Simmons                     948                   779.0   \n",
       "\n",
       "    actor_3_facebook_likes  ...  Votes3044M Votes3044F Votes45A Votes45AM  \\\n",
       "0                      NaN  ...         7.9        7.8      7.6       7.6   \n",
       "1                  27000.0  ...         7.8        8.1      7.8       7.8   \n",
       "2                   9800.0  ...         7.9        8.2      8.0       7.9   \n",
       "3                      NaN  ...         7.8        7.8      7.6       7.6   \n",
       "4                   3300.0  ...         7.7        7.7      7.6       7.6   \n",
       "..                     ...  ...         ...        ...      ...       ...   \n",
       "95                   535.0  ...         8.3        8.2      8.1       8.1   \n",
       "96                    48.0  ...         7.8        7.6      7.3       7.4   \n",
       "97                     0.0  ...         7.9        8.2      7.9       7.8   \n",
       "98                  1000.0  ...         7.3        8.1      7.4       7.3   \n",
       "99                   440.0  ...         7.5        7.7      7.5       7.4   \n",
       "\n",
       "    Votes45AF  Votes1000  VotesUS  VotesnUS  content_rating    Country  \n",
       "0         7.5        7.1      8.3       8.1           PG-13        USA  \n",
       "1         8.1        7.6      8.0       8.0              PG        USA  \n",
       "2         8.4        7.1      8.1       8.0           PG-13  Australia  \n",
       "3         7.7        7.3      8.0       7.9           PG-13        USA  \n",
       "4         7.6        7.1      7.9       7.8               R        USA  \n",
       "..        ...        ...      ...       ...             ...        ...  \n",
       "95        8.2        8.0      8.6       8.4               R        USA  \n",
       "96        7.2        7.0      8.0       7.9               R        USA  \n",
       "97        8.2        7.7      8.2       7.9           PG-13        USA  \n",
       "98        8.0        6.7      7.9       7.5           PG-13         UK  \n",
       "99        7.7        7.1      7.7       7.5               R     Canada  \n",
       "\n",
       "[100 rows x 62 columns]>"
      ]
     },
     "execution_count": 3,
     "metadata": {},
     "output_type": "execute_result"
    }
   ],
   "source": [
    "df.head"
   ]
  },
  {
   "cell_type": "code",
   "execution_count": 4,
   "metadata": {},
   "outputs": [
    {
     "name": "stdout",
     "output_type": "stream",
     "text": [
      "<class 'pandas.core.frame.DataFrame'>\n",
      "RangeIndex: 100 entries, 0 to 99\n",
      "Data columns (total 62 columns):\n",
      " #   Column                  Non-Null Count  Dtype  \n",
      "---  ------                  --------------  -----  \n",
      " 0   Title                   100 non-null    object \n",
      " 1   title_year              100 non-null    int64  \n",
      " 2   budget                  100 non-null    int64  \n",
      " 3   Gross                   100 non-null    int64  \n",
      " 4   actor_1_name            100 non-null    object \n",
      " 5   actor_2_name            100 non-null    object \n",
      " 6   actor_3_name            100 non-null    object \n",
      " 7   actor_1_facebook_likes  100 non-null    int64  \n",
      " 8   actor_2_facebook_likes  99 non-null     float64\n",
      " 9   actor_3_facebook_likes  98 non-null     float64\n",
      " 10  IMDb_rating             100 non-null    float64\n",
      " 11  genre_1                 100 non-null    object \n",
      " 12  genre_2                 97 non-null     object \n",
      " 13  genre_3                 74 non-null     object \n",
      " 14  MetaCritic              95 non-null     float64\n",
      " 15  Runtime                 100 non-null    int64  \n",
      " 16  CVotes10                100 non-null    int64  \n",
      " 17  CVotes09                100 non-null    int64  \n",
      " 18  CVotes08                100 non-null    int64  \n",
      " 19  CVotes07                100 non-null    int64  \n",
      " 20  CVotes06                100 non-null    int64  \n",
      " 21  CVotes05                100 non-null    int64  \n",
      " 22  CVotes04                100 non-null    int64  \n",
      " 23  CVotes03                100 non-null    int64  \n",
      " 24  CVotes02                100 non-null    int64  \n",
      " 25  CVotes01                100 non-null    int64  \n",
      " 26  CVotesMale              100 non-null    int64  \n",
      " 27  CVotesFemale            100 non-null    int64  \n",
      " 28  CVotesU18               100 non-null    int64  \n",
      " 29  CVotesU18M              100 non-null    int64  \n",
      " 30  CVotesU18F              100 non-null    int64  \n",
      " 31  CVotes1829              100 non-null    int64  \n",
      " 32  CVotes1829M             100 non-null    int64  \n",
      " 33  CVotes1829F             100 non-null    int64  \n",
      " 34  CVotes3044              100 non-null    int64  \n",
      " 35  CVotes3044M             100 non-null    int64  \n",
      " 36  CVotes3044F             100 non-null    int64  \n",
      " 37  CVotes45A               100 non-null    int64  \n",
      " 38  CVotes45AM              100 non-null    int64  \n",
      " 39  CVotes45AF              100 non-null    int64  \n",
      " 40  CVotes1000              100 non-null    int64  \n",
      " 41  CVotesUS                100 non-null    int64  \n",
      " 42  CVotesnUS               100 non-null    int64  \n",
      " 43  VotesM                  100 non-null    float64\n",
      " 44  VotesF                  100 non-null    float64\n",
      " 45  VotesU18                100 non-null    float64\n",
      " 46  VotesU18M               100 non-null    float64\n",
      " 47  VotesU18F               100 non-null    float64\n",
      " 48  Votes1829               100 non-null    float64\n",
      " 49  Votes1829M              100 non-null    float64\n",
      " 50  Votes1829F              100 non-null    float64\n",
      " 51  Votes3044               100 non-null    float64\n",
      " 52  Votes3044M              100 non-null    float64\n",
      " 53  Votes3044F              100 non-null    float64\n",
      " 54  Votes45A                100 non-null    float64\n",
      " 55  Votes45AM               100 non-null    float64\n",
      " 56  Votes45AF               100 non-null    float64\n",
      " 57  Votes1000               100 non-null    float64\n",
      " 58  VotesUS                 100 non-null    float64\n",
      " 59  VotesnUS                100 non-null    float64\n",
      " 60  content_rating          100 non-null    object \n",
      " 61  Country                 100 non-null    object \n",
      "dtypes: float64(21), int64(32), object(9)\n",
      "memory usage: 48.6+ KB\n"
     ]
    }
   ],
   "source": [
    "df.info()"
   ]
  },
  {
   "cell_type": "code",
   "execution_count": 5,
   "metadata": {},
   "outputs": [
    {
     "data": {
      "text/plain": [
       "(100, 62)"
      ]
     },
     "execution_count": 5,
     "metadata": {},
     "output_type": "execute_result"
    }
   ],
   "source": [
    "df.shape"
   ]
  }
 ],
 "metadata": {
  "kernelspec": {
   "display_name": "Python 3",
   "language": "python",
   "name": "python3"
  },
  "language_info": {
   "codemirror_mode": {
    "name": "ipython",
    "version": 3
   },
   "file_extension": ".py",
   "mimetype": "text/x-python",
   "name": "python",
   "nbconvert_exporter": "python",
   "pygments_lexer": "ipython3",
   "version": "3.10.13"
  }
 },
 "nbformat": 4,
 "nbformat_minor": 2
}
